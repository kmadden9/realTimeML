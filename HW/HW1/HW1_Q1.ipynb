{
  "nbformat": 4,
  "nbformat_minor": 0,
  "metadata": {
    "colab": {
      "name": "HW1 -Q1.ipynb",
      "provenance": [],
      "collapsed_sections": []
    },
    "kernelspec": {
      "name": "python3",
      "display_name": "Python 3"
    },
    "language_info": {
      "name": "python"
    },
    "accelerator": "GPU"
  },
  "cells": [
    {
      "cell_type": "code",
      "execution_count": 14,
      "metadata": {
        "id": "eThkPbhxkPSH"
      },
      "outputs": [],
      "source": [
        "#Kevin Madden \n",
        "#Due Date: 2/14/2022\n",
        "#Professor: Dr. Hamed Tabkhi, PH.D.\n",
        "\n",
        "import torch\n",
        "from PIL import Image\n",
        "from torchvision import transforms\n",
        "import requests\n",
        "from io import BytesIO\n",
        "import numpy as np"
      ]
    },
    {
      "cell_type": "code",
      "source": [
        "#checking if I have GPU connected\n",
        "torch.cuda.is_available()"
      ],
      "metadata": {
        "colab": {
          "base_uri": "https://localhost:8080/"
        },
        "id": "B-9mFiELmeYH",
        "outputId": "7fc53c59-2f16-48dd-e9a7-dbd0d6681097"
      },
      "execution_count": 15,
      "outputs": [
        {
          "output_type": "execute_result",
          "data": {
            "text/plain": [
              "True"
            ]
          },
          "metadata": {},
          "execution_count": 15
        }
      ]
    },
    {
      "cell_type": "code",
      "source": [
        "#(1.b)\n",
        "import imageio\n",
        "blueShirt = imageio.imread('https://raw.githubusercontent.com/kmadden9/realTimeML/11eff022fba8ec12c7639aabc45d533e707f11cf/HW/HW1/blueShirt.jpeg')\n",
        "blueShirt.shape"
      ],
      "metadata": {
        "colab": {
          "base_uri": "https://localhost:8080/"
        },
        "id": "2HiVN6-4mesl",
        "outputId": "95413ce7-9c7e-453a-ee69-78e283844e59"
      },
      "execution_count": 63,
      "outputs": [
        {
          "output_type": "execute_result",
          "data": {
            "text/plain": [
              "(4032, 3024, 3)"
            ]
          },
          "metadata": {},
          "execution_count": 63
        }
      ]
    },
    {
      "cell_type": "code",
      "source": [
        "#copy_img = array.copy(img_arr).)\n",
        "\n",
        "img = torch.from_numpy(np.flip(blueShirt,axis=0).copy())  #torch.from_numpy returns \"negative stride\"\n",
        "out = img.permute(2, 0, 1)\n",
        "out.shape"
      ],
      "metadata": {
        "colab": {
          "base_uri": "https://localhost:8080/"
        },
        "id": "FtKdkFqJmezc",
        "outputId": "f2c26f4e-23bb-40d8-e4fc-7d57e3c7733d"
      },
      "execution_count": 64,
      "outputs": [
        {
          "output_type": "execute_result",
          "data": {
            "text/plain": [
              "torch.Size([3, 4032, 3024])"
            ]
          },
          "metadata": {},
          "execution_count": 64
        }
      ]
    },
    {
      "cell_type": "code",
      "source": [
        "out = out.float()\n",
        "brightMean = torch.mean(out)\n",
        "RedMean = torch.mean(out[0,:,:])\n",
        "GreenMean = torch.mean(out[1,:,:])\n",
        "blueMean = torch.mean(out[2,:,:])\n",
        "\n",
        "#print mean for brightness (1.c)\n",
        "print(\"Mean across all channels:\", brightMean)\n",
        "\n",
        "# print mean across image channel RGB (1.d)\n",
        "print(\"Mean across Read channel:\", RedMean)\n",
        "print(\"Mean across Green channel:\", GreenMean)\n",
        "print(\"Mean across Blue channel:\", blueMean)"
      ],
      "metadata": {
        "colab": {
          "base_uri": "https://localhost:8080/"
        },
        "id": "bF7w8T1Jme2U",
        "outputId": "343c9073-573f-4d04-b585-6ed28a70e4bb"
      },
      "execution_count": 65,
      "outputs": [
        {
          "output_type": "stream",
          "name": "stdout",
          "text": [
            "Mean across all channles: tensor(124.4946)\n",
            "Mean across Read channel: tensor(114.2050)\n",
            "Mean across Green channel: tensor(127.9345)\n",
            "Mean across Blue channel: tensor(131.3442)\n"
          ]
        }
      ]
    },
    {
      "cell_type": "code",
      "source": [
        "#(1.b)\n",
        "greenPCB = imageio.imread('https://raw.githubusercontent.com/kmadden9/realTimeML/11eff022fba8ec12c7639aabc45d533e707f11cf/HW/HW1/greenPCB.jpeg')\n",
        "greenPCB.shape"
      ],
      "metadata": {
        "colab": {
          "base_uri": "https://localhost:8080/"
        },
        "id": "SdxNaKB7u6Xl",
        "outputId": "726fb5ca-df18-4ef5-9925-2b26df01c9b2"
      },
      "execution_count": 66,
      "outputs": [
        {
          "output_type": "execute_result",
          "data": {
            "text/plain": [
              "(4032, 3024, 3)"
            ]
          },
          "metadata": {},
          "execution_count": 66
        }
      ]
    },
    {
      "cell_type": "code",
      "source": [
        "img = torch.from_numpy(np.flip(greenPCB,axis=0).copy())  #torch.from_numpy returns \"negative stride\"\n",
        "out = img.permute(2, 0, 1)\n",
        "out.shape"
      ],
      "metadata": {
        "colab": {
          "base_uri": "https://localhost:8080/"
        },
        "id": "HeI6pePLziSs",
        "outputId": "d5c11729-1eff-4634-e435-f4a22de19e5b"
      },
      "execution_count": 67,
      "outputs": [
        {
          "output_type": "execute_result",
          "data": {
            "text/plain": [
              "torch.Size([3, 4032, 3024])"
            ]
          },
          "metadata": {},
          "execution_count": 67
        }
      ]
    },
    {
      "cell_type": "code",
      "source": [
        "out = out.float()\n",
        "brightMean = torch.mean(out)\n",
        "RedMean = torch.mean(out[0,:,:])\n",
        "GreenMean = torch.mean(out[1,:,:])\n",
        "blueMean = torch.mean(out[2,:,:])\n",
        "\n",
        "#print mean for brightness (1.c)\n",
        "print(\"Mean across all channels:\", brightMean)\n",
        "\n",
        "# print mean across image channel RGB (1.d)\n",
        "print(\"Mean across Read channel:\", RedMean)\n",
        "print(\"Mean across Green channel:\", GreenMean)\n",
        "print(\"Mean across Blue channel:\", blueMean)"
      ],
      "metadata": {
        "colab": {
          "base_uri": "https://localhost:8080/"
        },
        "id": "_FEULaM_zmL5",
        "outputId": "6dbc7991-8a2c-4e32-a301-c471502a73a5"
      },
      "execution_count": 68,
      "outputs": [
        {
          "output_type": "stream",
          "name": "stdout",
          "text": [
            "Mean across all channels: tensor(89.1650)\n",
            "Mean across Read channel: tensor(86.7690)\n",
            "Mean across Green channel: tensor(102.4462)\n",
            "Mean across Blue channel: tensor(78.2799)\n"
          ]
        }
      ]
    },
    {
      "cell_type": "code",
      "source": [
        "#(1.b)\n",
        "redBox = imageio.imread('https://raw.githubusercontent.com/kmadden9/realTimeML/11eff022fba8ec12c7639aabc45d533e707f11cf/HW/HW1/redBox.jpeg')\n",
        "redBox.shape"
      ],
      "metadata": {
        "colab": {
          "base_uri": "https://localhost:8080/"
        },
        "id": "FLQ8mURUzs6H",
        "outputId": "277eaead-24e7-4576-db27-a0571d0219eb"
      },
      "execution_count": 69,
      "outputs": [
        {
          "output_type": "execute_result",
          "data": {
            "text/plain": [
              "(4032, 3024, 3)"
            ]
          },
          "metadata": {},
          "execution_count": 69
        }
      ]
    },
    {
      "cell_type": "code",
      "source": [
        "img = torch.from_numpy(np.flip(redBox,axis=0).copy())  #torch.from_numpy returns \"negative stride\"\n",
        "out = img.permute(2, 0, 1)\n",
        "out.shape"
      ],
      "metadata": {
        "colab": {
          "base_uri": "https://localhost:8080/"
        },
        "id": "2qb9MX1l1GGM",
        "outputId": "0f3e24d0-83a1-4f18-a1e1-eac1078f0866"
      },
      "execution_count": 70,
      "outputs": [
        {
          "output_type": "execute_result",
          "data": {
            "text/plain": [
              "torch.Size([3, 4032, 3024])"
            ]
          },
          "metadata": {},
          "execution_count": 70
        }
      ]
    },
    {
      "cell_type": "code",
      "source": [
        "out = out.float()\n",
        "brightMean = torch.mean(out)\n",
        "RedMean = torch.mean(out[0,:,:])\n",
        "GreenMean = torch.mean(out[1,:,:])\n",
        "blueMean = torch.mean(out[2,:,:])\n",
        "\n",
        "#print mean for brightness (1.c)\n",
        "print(\"Mean across all channels:\", brightMean)\n",
        "\n",
        "# print mean across image channel RGB (1.d)\n",
        "print(\"Mean across Read channel:\", RedMean)\n",
        "print(\"Mean across Green channel:\", GreenMean)\n",
        "print(\"Mean across Blue channel:\", blueMean)"
      ],
      "metadata": {
        "colab": {
          "base_uri": "https://localhost:8080/"
        },
        "id": "mFAmIIXj1L6G",
        "outputId": "8c6b8504-4ae6-4e05-d457-c5548a706018"
      },
      "execution_count": 71,
      "outputs": [
        {
          "output_type": "stream",
          "name": "stdout",
          "text": [
            "Mean across all channels: tensor(111.3252)\n",
            "Mean across Read channel: tensor(137.3792)\n",
            "Mean across Green channel: tensor(101.6974)\n",
            "Mean across Blue channel: tensor(94.8991)\n"
          ]
        }
      ]
    },
    {
      "cell_type": "code",
      "source": [
        ""
      ],
      "metadata": {
        "id": "Qq0vXGBl1O6H"
      },
      "execution_count": null,
      "outputs": []
    }
  ]
}